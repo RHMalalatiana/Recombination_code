{
  "nbformat": 4,
  "nbformat_minor": 0,
  "metadata": {
    "colab": {
      "provenance": [],
      "mount_file_id": "15GSIVMzs7QpEN3KBKe10lqNL1_e9HCkv",
      "authorship_tag": "ABX9TyNLLOANs1eKdB/72D8xvGqs",
      "include_colab_link": true
    },
    "kernelspec": {
      "name": "python3",
      "display_name": "Python 3"
    },
    "language_info": {
      "name": "python"
    }
  },
  "cells": [
    {
      "cell_type": "markdown",
      "metadata": {
        "id": "view-in-github",
        "colab_type": "text"
      },
      "source": [
        "<a href=\"https://colab.research.google.com/github/RHMalalatiana/Recombination_code/blob/main/Distance%20_data_visualisation.ipynb\" target=\"_parent\"><img src=\"https://colab.research.google.com/assets/colab-badge.svg\" alt=\"Open In Colab\"/></a>"
      ]
    },
    {
      "cell_type": "code",
      "execution_count": 1,
      "metadata": {
        "colab": {
          "base_uri": "https://localhost:8080/",
          "height": 470
        },
        "id": "OhR9WNKf1bVL",
        "outputId": "e0c7746e-ddbe-4cfe-9f54-f877c19241d5"
      },
      "outputs": [
        {
          "output_type": "error",
          "ename": "ModuleNotFoundError",
          "evalue": "No module named 'pairwise_distance'",
          "traceback": [
            "\u001b[0;31m---------------------------------------------------------------------------\u001b[0m",
            "\u001b[0;31mModuleNotFoundError\u001b[0m                       Traceback (most recent call last)",
            "\u001b[0;32m<ipython-input-1-5108f9a4b3fb>\u001b[0m in \u001b[0;36m<cell line: 0>\u001b[0;34m()\u001b[0m\n\u001b[0;32m----> 1\u001b[0;31m \u001b[0;32mfrom\u001b[0m \u001b[0mdata_gen_dist_rec\u001b[0m \u001b[0;32mimport\u001b[0m \u001b[0;34m*\u001b[0m\u001b[0;34m\u001b[0m\u001b[0;34m\u001b[0m\u001b[0m\n\u001b[0m\u001b[1;32m      2\u001b[0m \u001b[0;32mimport\u001b[0m \u001b[0mmath\u001b[0m \u001b[0;32mas\u001b[0m \u001b[0mmt\u001b[0m\u001b[0;34m\u001b[0m\u001b[0;34m\u001b[0m\u001b[0m\n\u001b[1;32m      3\u001b[0m \u001b[0;32mimport\u001b[0m \u001b[0mrandom\u001b[0m\u001b[0;34m\u001b[0m\u001b[0;34m\u001b[0m\u001b[0m\n",
            "\u001b[0;32m/content/data_gen_dist_rec.py\u001b[0m in \u001b[0;36m<module>\u001b[0;34m\u001b[0m\n\u001b[1;32m      3\u001b[0m \u001b[0;32mimport\u001b[0m \u001b[0mmath\u001b[0m \u001b[0;32mas\u001b[0m \u001b[0mM\u001b[0m\u001b[0;34m\u001b[0m\u001b[0;34m\u001b[0m\u001b[0m\n\u001b[1;32m      4\u001b[0m \u001b[0;32mimport\u001b[0m \u001b[0mrandom\u001b[0m\u001b[0;34m\u001b[0m\u001b[0;34m\u001b[0m\u001b[0m\n\u001b[0;32m----> 5\u001b[0;31m \u001b[0;32mfrom\u001b[0m \u001b[0mpairwise_distance\u001b[0m \u001b[0;32mimport\u001b[0m \u001b[0;34m*\u001b[0m\u001b[0;34m\u001b[0m\u001b[0;34m\u001b[0m\u001b[0m\n\u001b[0m\u001b[1;32m      6\u001b[0m \u001b[0;34m\u001b[0m\u001b[0m\n\u001b[1;32m      7\u001b[0m \u001b[0;34m\u001b[0m\u001b[0m\n",
            "\u001b[0;31mModuleNotFoundError\u001b[0m: No module named 'pairwise_distance'",
            "",
            "\u001b[0;31m---------------------------------------------------------------------------\u001b[0;32m\nNOTE: If your import is failing due to a missing package, you can\nmanually install dependencies using either !pip or !apt.\n\nTo view examples of installing some common dependencies, click the\n\"Open Examples\" button below.\n\u001b[0;31m---------------------------------------------------------------------------\u001b[0m\n"
          ],
          "errorDetails": {
            "actions": [
              {
                "action": "open_url",
                "actionText": "Open Examples",
                "url": "/notebooks/snippets/importing_libraries.ipynb"
              }
            ]
          }
        }
      ],
      "source": [
        "from data_gen_dist_rec import *\n",
        "import math as mt\n",
        "import random"
      ]
    },
    {
      "cell_type": "code",
      "source": [
        "list_d12=[]\n",
        "list_d13=[]\n",
        "list_d23=[]\n",
        "list_d12_hat=[]\n",
        "list_d13_hat=[]\n",
        "list_d23_hat=[]\n",
        "n_simulation=10000\n",
        "#the time divergent of the 3 species is given here\n",
        "t_12=2.0\n",
        "t_13=3.0\n",
        "t_23=3.0\n",
        "for i in range(n_simulation):\n",
        "    #we define the initial genome as a sequence of a of length 500\n",
        "    initial_gen='a'*500\n",
        "    #here is the input tree of the form [genTime, leftBranch, RightBranch] in this case we have tree of 3 leaves\n",
        "    gen_time=[1.0,[1.0,[1.0],[1.0]],[1.0]]\n",
        "    #we start generating the genome sequences of the tree\n",
        "    tree=generateDriver(initial_gen,gen_time)\n",
        "    #here we extract the sequences generated\n",
        "    seq=extract_genomes(tree)\n",
        "    seq1=seq[0]\n",
        "    seq3=seq[2]\n",
        "    seq2=seq[1]\n",
        "    #let us see the distance between them. Here d_12 should be short and d_13, d_23 should be long\n",
        "    d_12=hamming_distance(seq1,seq2)\n",
        "    d_13=hamming_distance(seq1,seq3)\n",
        "    d_23=hamming_distance(seq2,seq3)\n",
        "    list_d12.append(d_12)\n",
        "    list_d13.append(d_13)\n",
        "    list_d23.append(d_23)\n",
        "    #compute lambda\n",
        "    lambda_hat=(d_12+d_13+d_23)/(2*(t_12+t_13+t_23))\n",
        "    #compute t\n",
        "    t_12_hat=d_12/(2*lambda_hat)\n",
        "    t_13_hat=d_13/(2*lambda_hat)\n",
        "    t_23_hat=d_23/(2*lambda_hat)\n",
        "    list_d12_hat.append(2*lambda_hat*t_12_hat)\n",
        "    list_d13_hat.append(2*lambda_hat*t_13_hat)\n",
        "    list_d23_hat.append(2*lambda_hat*t_23_hat)\n",
        ""
      ],
      "metadata": {
        "id": "b4K7MmKB1kmr"
      },
      "execution_count": null,
      "outputs": []
    },
    {
      "cell_type": "code",
      "source": [
        "plt.figure(figsize=(12, 8))\n",
        "\n",
        "plt.subplot(2, 2, 1)\n",
        "plt.hist(list_d12, bins=100, alpha=0.6, label=\"d_AB\")\n",
        "#plt.hist(list_d12_hat, bins=30, alpha=0.6, label=\"d_AB estimate\")\n",
        "plt.xlabel(\"Value of d_AB\")\n",
        "plt.ylabel(\"Frequency\")\n",
        "plt.legend()\n",
        "plt.title(\"d_AB\")\n",
        "\n",
        "plt.subplot(2, 2, 2)\n",
        "#plt.hist(list_d12, bins=30, alpha=0.6, label=\"d_AB\")\n",
        "plt.hist(list_d12_hat, bins=100, alpha=0.6, label=\"d_AB estimate\")\n",
        "plt.xlabel(\"Value of d_AB\")\n",
        "plt.ylabel(\"Frequency\")\n",
        "plt.legend()\n",
        "plt.title(\"Estimation of d_AB\")\n",
        "\n",
        "plt.subplot(2, 2, 3)\n",
        "plt.hist(list_d13, bins=100, alpha=0.6, label=\"d_AC\", color=\"green\")\n",
        "#plt.hist(list_d13_hat, bins=30, alpha=0.6, label=\"d_AC estimate\")\n",
        "plt.xlabel(\"Value of d_AC\")\n",
        "plt.ylabel(\"Frequency\")\n",
        "plt.legend()\n",
        "plt.title(\"d_AC\")\n",
        "\n",
        "plt.subplot(2, 2, 4)\n",
        "#plt.hist(list_d13, bins=30, alpha=0.6, label=\"d_AC\")\n",
        "plt.hist(list_d13_hat, bins=100, alpha=0.6, label=\"d_AC estimate\", color=\"green\")\n",
        "plt.xlabel(\"Value of d_AC\")\n",
        "plt.ylabel(\"Frequency\")\n",
        "plt.legend()\n",
        "plt.title(\"Estimation of d_AC\")\n",
        "\n",
        "plt.tight_layout()\n",
        "plt.show()"
      ],
      "metadata": {
        "id": "4N5x0b391qJa"
      },
      "execution_count": null,
      "outputs": []
    }
  ]
}