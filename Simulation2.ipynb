{
  "nbformat": 4,
  "nbformat_minor": 0,
  "metadata": {
    "colab": {
      "provenance": [],
      "authorship_tag": "ABX9TyON55zp3LB2/pFsvOgt6Ycl",
      "include_colab_link": true
    },
    "kernelspec": {
      "name": "python3",
      "display_name": "Python 3"
    },
    "language_info": {
      "name": "python"
    }
  },
  "cells": [
    {
      "cell_type": "markdown",
      "metadata": {
        "id": "view-in-github",
        "colab_type": "text"
      },
      "source": [
        "<a href=\"https://colab.research.google.com/github/RHMalalatiana/Recombination_code/blob/main/Simulation2.ipynb\" target=\"_parent\"><img src=\"https://colab.research.google.com/assets/colab-badge.svg\" alt=\"Open In Colab\"/></a>"
      ]
    },
    {
      "cell_type": "code",
      "execution_count": 1,
      "metadata": {
        "id": "e2VCbWacndcO"
      },
      "outputs": [],
      "source": [
        "import numpy as np\n",
        "import matplotlib.pyplot as plt\n",
        "import scipy.stats as stats\n",
        "from scipy.stats import norm,  probplot\n",
        "import math as mt"
      ]
    },
    {
      "cell_type": "code",
      "source": [
        "def simulate_distances(tAI, tBI, tCI, lam):\n",
        "  \"\"\"\n",
        "  simulate_distances is a function that simulates the distances\n",
        "  between the internal sequences I to the external sequences A, B and C,\n",
        "  following a Poisson distribution.\n",
        "  Also it calculates the distance between the external sequences A, B and C.\n",
        "  Input: time divergence, mutation rate\n",
        "  Output: distance between the internal sequences I to the external sequences A, and B\n",
        "          distance between A,B and C\n",
        "  \"\"\"\n",
        "  dAI = np.random.poisson(lam * tAI)\n",
        "  dBI = np.random.poisson(lam * tBI)\n",
        "  dCI = np.random.poisson(lam * tCI)\n",
        "    # dAI = stats.poisson.rvs(lam * tAI, size=1)[0]\n",
        "    # dBI = stats.poisson.rvs(lam * tBI, size=1)[0]\n",
        "    # dCI = stats.poisson.rvs(lam * tCI, size=1)[0]\n",
        "\n",
        "\n",
        "  dAB = dAI + dBI\n",
        "  dAC = dAI + dCI\n",
        "  dBC = dBI + dCI\n",
        "\n",
        "  return dAB, dAC, dBC, dAI, dBI, dCI\n",
        "\n",
        "def compute_z_score(dAI, dBI, lam, tAI, tBI):\n",
        "  \"\"\"\n",
        "  compute_z_score is a function that calculate the Z score for our test statistic S.\n",
        "  Input: distance between the internal sequences I to the external sequences A, and B\n",
        "         time divergence, mutation rate\n",
        "  Output: Z score\n",
        "  \"\"\"\n",
        "  S = abs(dAI - dBI)\n",
        "  var_S = lam * (tAI + tBI)\n",
        "  Z = S / mt.sqrt(var_S) if var_S > 0 else 0\n",
        "  return Z\n",
        "\n",
        "def estimate_distances(tAI,tBI,tCI,dAB,dAC,dBC):\n",
        "  \"\"\"\n",
        "  estimate_distances is a function that estimate the mutation rate lambda then\n",
        "  deduced the estimate distances between A,B and C by the estimated distances\n",
        "  between the internal sequences I to the external sequences A, B and C by that\n",
        "  value of lamda.\n",
        "  Input: time divergence, distance between A,B and C\n",
        "  Output: estimated distance between A,B and C\n",
        "  \"\"\"\n",
        "  lambda_hat=(dAB+dAC+dBC)/(2*(tAI+tBI+tCI))\n",
        "  dAI_hat=lambda_hat*tAI\n",
        "  dBI_hat=lambda_hat*tBI\n",
        "  dCI_hat=lambda_hat*tCI\n",
        "  dAB_hat = dAI_hat + dBI_hat\n",
        "  dAC_hat = dAI_hat + dCI_hat\n",
        "  dBC_hat = dBI_hat + dCI_hat\n",
        "  return dAB_hat,dAC_hat,dBC_hat\n",
        "\n",
        "def simulate_case(tAI,tBI,tCI,lam):\n",
        "  \"\"\"\n",
        "  simulate_case simulate a case of recombination or non recombination.\n",
        "  Input: time divergence, mutation rate\n",
        "  Output: Z score\n",
        "  \"\"\"\n",
        "  dAB, dAC, dBC, dAI, dBI,dCI = simulate_distances(tAI, tBI, tCI, lam)\n",
        "  Z = compute_z_score(dAI, dBI, lam, tAI, tBI)\n",
        "  if Z > 1.96:\n",
        "    Z = compute_z_score(dAI, dCI, lam, tAI, tCI)\n",
        "    if Z<1.96:\n",
        "      cas='non-recombination'\n",
        "    else:\n",
        "      cas='recombination'\n",
        "    return cas\n",
        "  else:\n",
        "    cas='non-recombination'\n",
        "  return cas"
      ],
      "metadata": {
        "id": "82v7wC3UneqN"
      },
      "execution_count": 2,
      "outputs": []
    },
    {
      "cell_type": "code",
      "source": [
        "# Run simulations Z score\n",
        "np.random.seed(42)\n",
        "n_simulations = 1000000\n",
        "tAI, tBI, tCI = 100.0, 100.0, 300.0\n",
        "lam=0.03\n",
        "non_recomb_case = [simulate_case(tAI, tBI, tCI,lam) for _ in range(n_simulations)]\n",
        "recomb_case = [simulate_case(300.0, 100.0, 100.0,lam) for _ in range(n_simulations)]"
      ],
      "metadata": {
        "id": "ZSnqqOCUp9RU"
      },
      "execution_count": 5,
      "outputs": []
    },
    {
      "cell_type": "code",
      "source": [
        "false_positive = sum(1 for cas in non_recomb_case if cas=='recombination')\n",
        "print(f\"Number of false positives: {false_positive} which is {false_positive*100/n_simulations}%\")"
      ],
      "metadata": {
        "colab": {
          "base_uri": "https://localhost:8080/"
        },
        "id": "fBh0tTTOsFMv",
        "outputId": "9819b069-1e3c-4152-f7df-8c767e01d9af"
      },
      "execution_count": 6,
      "outputs": [
        {
          "output_type": "stream",
          "name": "stdout",
          "text": [
            "Number of false positives: 24281 which is 2.4281%\n"
          ]
        }
      ]
    },
    {
      "cell_type": "code",
      "source": [
        "false_negative = sum(1 for cas in recomb_case if cas=='non_recombination')\n",
        "print(f\"Number of false negatives: {false_negative} which is {false_negative*100/n_simulations}%\")"
      ],
      "metadata": {
        "colab": {
          "base_uri": "https://localhost:8080/"
        },
        "id": "UzsCPvn_sxwT",
        "outputId": "468b1820-21ab-4cbf-a30e-6bf926ffa568"
      },
      "execution_count": 7,
      "outputs": [
        {
          "output_type": "stream",
          "name": "stdout",
          "text": [
            "Number of false negatives: 0 which is 0.0%\n"
          ]
        }
      ]
    }
  ]
}