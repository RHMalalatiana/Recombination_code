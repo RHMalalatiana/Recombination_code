{
 "cells": [
  {
   "cell_type": "code",
   "execution_count": 1,
   "id": "79c2bd8b-f5c6-489a-aa12-7b22b5e6f408",
   "metadata": {},
   "outputs": [],
   "source": [
    "# SIMULATED DATA GENERATION\n",
    "import copy\n",
    "import math as M\n",
    "import random\n",
    "from pairwise_distance import *\n",
    "\n",
    "\n",
    "def jukesCantor(genome,gen_time):\n",
    "  \"\"\"\n",
    "  Input: genome, a character string consisting of a, c, g, and t\n",
    "         gen_time, genetic time\n",
    "  Output: a randomly modified string according to the Juke's cantor model\n",
    "    The following coupled ODEs are integrated from t=0 to t=gen_time\n",
    "\n",
    "    dot a = -a + (c + g + t) /3\n",
    "    dot c = -a + (g + t + a) /3\n",
    "    dot g = -g + (t + a + c) /3\n",
    "    dot t = -t + (a + c + g) /3\n",
    "  \n",
    "    using the solution \n",
    " \n",
    "    a(t)=(3/4)*exp(-t)*(a(0)-(c(0)+g(0)+t(0))/3)\n",
    "        +(1/4)*(a(0)+c(0)+g(0)+t(0))\n",
    "\n",
    "    and similarly for c(t), g(t), and t(t).\n",
    "\n",
    "    In other words, if 'a' is the initial base, its persistence\n",
    "    probability after a time t is \n",
    "\n",
    "    3/4 exp(-t) + 1/4\n",
    "\n",
    "    and likewise for the other three base inputs.\n",
    "\n",
    "  \"\"\"\n",
    "  if type(gen_time) !=  float :\n",
    "    raise Exception(\"Time must be a float\")\n",
    "  for b in genome:\n",
    "    if not ( b=='a' or b=='c' or b=='g' or b=='t' ):\n",
    "       raise Exception(\"Invalid input genome\")\n",
    "  persistence_prob=(3.*M.exp(-gen_time)+1.)/4.\n",
    "  new_genome=[]\n",
    "  for base in genome:\n",
    "    p=random.random()\n",
    "    if p < persistence_prob:\n",
    "      new_base=base\n",
    "    else: \n",
    "      if base=='a':\n",
    "        seq=('c','g','t')\n",
    "      if base=='c':\n",
    "        seq=('a','g','t')\n",
    "      if base=='g':\n",
    "        seq=('a','c','t')\n",
    "      if base=='t':\n",
    "        seq=('a','c','g')\n",
    "      new_base=random.choice(seq)\n",
    "    new_genome.append(new_base)\n",
    "  return(new_genome)\n",
    "\n",
    "# The following routine, which applies mutations randomly, chooses the Jukes-Cantor algorithm,\n",
    "# but some other model can be used by changing the function below.\n",
    "\n",
    "def evolve(genome,time):\n",
    "   return(jukesCantor(genome,time))\n",
    "\n",
    "def generateHelper(initialGenome,listIn):\n",
    " time=listIn[0]\n",
    " newGenome=evolve(initialGenome,time)\n",
    " listIn[0]=newGenome\n",
    " if not ( len(listIn) == 1 or len(listIn) == 3):\n",
    "    raise Exception(\"Lists must have one or three elements\") \n",
    " if len(listIn) == 1:\n",
    "   return\n",
    " else:\n",
    "   generateHelper(newGenome,listIn[1])\n",
    "   generateHelper(newGenome,listIn[2])\n",
    "   return \n",
    "\n",
    "def generateDriver(initialGenome,listIn):\n",
    "  \"\"\"\n",
    "  This algorithm assumes a tree with input of the form:\n",
    "\n",
    "  [ genTime, leftBranch, rightBranch]\n",
    "\n",
    "  where the branches can either be tripleton lists of the format above\n",
    "  or leaves represtented as a single nonnegative number enclosed in a list.\n",
    "  genTime above is a non-negative real number. A deep copy of the input list is made,\n",
    "  and the genetic times are replaced with the stochastically evolved genomes.\n",
    "\n",
    "  An initial genone at the root of the binary tree is required as input, and this\n",
    "  must be in a format of a list of base charcters, i.e., 'a', 'c', 'g', or 't'.\n",
    "\n",
    "  \"\"\"\n",
    "  listInBis=copy.deepcopy(listIn)\n",
    "  generateHelper(initialGenome,listInBis)\n",
    "  return(listInBis)\n",
    "             \n",
    "def extract_genomes(tree):\n",
    " \"\"\"\n",
    " This function extract the genome on the output of generateDriver\n",
    " \"\"\"\n",
    " if len(tree)==1 :\n",
    "   return(tree)\n",
    " else :\n",
    "   return(extract_genomes(tree[1])+extract_genomes(tree[2]))\n",
    " \n",
    "def rec(parentA,parentB,b):\n",
    "  \"\"\"\n",
    "  This function create a recombinant genome from parentA and parentB\n",
    "  \"\"\"\n",
    "  return(parentA[:b]+parentB[b:])\n",
    "\n",
    "def hamming_distance(seq1,seq2):\n",
    "    \"\"\"\n",
    "    This function compute the difference between two sequences\n",
    "    \"\"\"\n",
    "    if len(seq1) != len(seq2):\n",
    "        raise ValueError(\"Sequences must be of equal length\")\n",
    "    sum=0\n",
    "    for i in range(len(seq1)):\n",
    "        if seq1[i]!=seq2[i]:\n",
    "            sum+=1\n",
    "    return sum"
   ]
  },
  {
   "cell_type": "markdown",
   "id": "ea96490f-5463-45f4-a0ea-93879945d955",
   "metadata": {},
   "source": [
    "From here, we generate a genome sequence and do the statistical test"
   ]
  },
  {
   "cell_type": "code",
   "execution_count": 3,
   "id": "bfb28df7-ee20-459b-bdf7-39c475467fd6",
   "metadata": {},
   "outputs": [
    {
     "data": {
      "text/plain": [
       "3"
      ]
     },
     "execution_count": 3,
     "metadata": {},
     "output_type": "execute_result"
    }
   ],
   "source": [
    "#we define the initial genome as a sequence of a of length 500\n",
    "initial_gen='a'*500\n",
    "#here is the input tree of the form [genTime, leftBranch, RightBranch] in this case we have tree of 3 leaves\n",
    "gen_time=[1.0,[1.0,[1.0],[1.0]],[1.0]]\n",
    "#we start generating the genome sequences of the tree\n",
    "tree=generateDriver(initial_gen,gen_time)\n",
    "#here we extract the sequences generated\n",
    "seq=extract_genomes(tree)\n",
    "#let us see how many species do we have\n",
    "len(seq)"
   ]
  },
  {
   "cell_type": "code",
   "execution_count": 4,
   "id": "b3e64612-862d-46dd-b1c9-fe918d23dcc9",
   "metadata": {},
   "outputs": [
    {
     "name": "stdout",
     "output_type": "stream",
     "text": [
      "d_12=339,d_13=350, d_23=363\n"
     ]
    }
   ],
   "source": [
    "seq1=seq[0]\n",
    "seq3=seq[2]\n",
    "seq2=seq[1]\n",
    "#let us see the distance between them. Here d_12 should be short and d_13, d_23 should be long\n",
    "d_12=hamming_distance(seq1,seq2)\n",
    "d_13=hamming_distance(seq1,seq3)\n",
    "d_23=hamming_distance(seq2,seq3)\n",
    "print('d_12={},d_13={}, d_23={}'.format(d_12,d_13,d_23))"
   ]
  },
  {
   "cell_type": "code",
   "execution_count": 5,
   "id": "9c039d3d-3d5e-4c7b-bb4d-5398205a987b",
   "metadata": {},
   "outputs": [],
   "source": [
    "#the recombinant sequence is a recombination of the first and the third sequences\n",
    "seq_rec=rec(seq1,seq3,200)\n",
    "#here we compute the distance between the recombinant sequence and its parents\n",
    "d_1rec=hamming_distance(seq1,seq_rec)\n",
    "d_3rec=hamming_distance(seq3,seq_rec)\n",
    "#the time divergent of the 3 species is given here\n",
    "t_12=2.0\n",
    "t_13=3.0\n",
    "t_23=3.0"
   ]
  },
  {
   "cell_type": "code",
   "execution_count": 6,
   "id": "d680e813-af39-41f8-9eea-e4356f24d072",
   "metadata": {},
   "outputs": [
    {
     "name": "stdout",
     "output_type": "stream",
     "text": [
      "d_1rec=213,d_13=350, d_3rec=137\n"
     ]
    }
   ],
   "source": [
    "#let us see the distance between the recombinant sequence and its parents.\n",
    "print('d_1rec={},d_13={}, d_3rec={}'.format(d_1rec, d_13, d_3rec))"
   ]
  },
  {
   "cell_type": "code",
   "execution_count": 7,
   "id": "9ed795c8-6f8d-42cc-9823-04df827d7475",
   "metadata": {},
   "outputs": [],
   "source": [
    "#here we do the computation of the estimated parameter lambda and the time divergence\n",
    "lambda_hat=(d_1rec+d_13+d_3rec)/(2*(t_12+t_13+t_23))\n",
    "t_1rec_hat=(d_1rec*(t_12+t_13+t_23)/(2*(d_1rec+d_13+d_3rec)))\n",
    "t_13_hat=(d_13*(t_12+t_13+t_23)/(2*(d_1rec+d_13+d_3rec)))\n",
    "t_3rec_hat=(d_3rec*(t_12+t_13+t_23)/(2*(d_1rec+d_13+d_3rec)))"
   ]
  },
  {
   "cell_type": "code",
   "execution_count": 8,
   "id": "ebdba6ab-589a-4c0f-9a6e-02de4afb8905",
   "metadata": {},
   "outputs": [
    {
     "name": "stdout",
     "output_type": "stream",
     "text": [
      "d_1rec_hat=106.5,d_13_hat=175.0, d_3rec_hat=68.5\n"
     ]
    }
   ],
   "source": [
    "#let us see the inferred distance\n",
    "print('d_1rec_hat={},d_13_hat={}, d_3rec_hat={}'.format(2*lambda_hat*t_1rec_hat, 2*lambda_hat*t_13_hat, 2*lambda_hat*t_3rec_hat))"
   ]
  },
  {
   "cell_type": "code",
   "execution_count": 9,
   "id": "9de62677-ba8d-4a36-bb07-2ded2da33b69",
   "metadata": {},
   "outputs": [],
   "source": [
    "import math as mt"
   ]
  },
  {
   "cell_type": "code",
   "execution_count": 10,
   "id": "6557c66b-e6cf-4574-bc0d-d3a2bff11b5b",
   "metadata": {},
   "outputs": [],
   "source": [
    "#we compute the Z-score\n",
    "Z=(2*lambda_hat*abs(t_13_hat-t_3rec_hat))/(mt.sqrt(2*lambda_hat*(t_13_hat+t_3rec_hat)))"
   ]
  },
  {
   "cell_type": "code",
   "execution_count": 11,
   "id": "2d040036-4e92-4ce4-996b-450036f572ac",
   "metadata": {},
   "outputs": [
    {
     "data": {
      "text/plain": [
       "6.824960229592816"
      ]
     },
     "execution_count": 11,
     "metadata": {},
     "output_type": "execute_result"
    }
   ],
   "source": [
    "#we could see here that Z is greater than 1.96 which is the value of Z when alpha=0.05 so we could reject the null hypothesis (No recombination)\n",
    "Z"
   ]
  },
  {
   "cell_type": "code",
   "execution_count": 35,
   "id": "bed232cb-d3d2-4ba7-b2fd-97f6faf09ee4",
   "metadata": {},
   "outputs": [],
   "source": [
    "#this is to see the value of Z to the data with no recombination\n",
    "lambda_hat_norec=(d_12+d_13+d_23)/(2*(t_12+t_13+t_23))\n",
    "t_13_hat_norec=(d_13*(t_12+t_13+t_23)/(2*(d_12+d_13+d_23)))\n",
    "t_23_hat=(d_23*(t_12+t_13+t_23)/(2*(d_12+d_13+d_23)))\n",
    "Z_norec=(2*lambda_hat_norec*abs(t_13_hat_norec-t_23_hat))/(mt.sqrt(2*lambda_hat_norec*abs(t_13_hat_norec+t_23_hat)))"
   ]
  },
  {
   "cell_type": "code",
   "execution_count": 37,
   "id": "120f2698-6499-4635-8e6a-4ad33533c8e4",
   "metadata": {},
   "outputs": [
    {
     "data": {
      "text/plain": [
       "0.3442576418660435"
      ]
     },
     "execution_count": 37,
     "metadata": {},
     "output_type": "execute_result"
    }
   ],
   "source": [
    "#the value of Z here is less than 1.96\n",
    "Z_norec"
   ]
  }
 ],
 "metadata": {
  "kernelspec": {
   "display_name": "Python 3 (ipykernel)",
   "language": "python",
   "name": "python3"
  },
  "language_info": {
   "codemirror_mode": {
    "name": "ipython",
    "version": 3
   },
   "file_extension": ".py",
   "mimetype": "text/x-python",
   "name": "python",
   "nbconvert_exporter": "python",
   "pygments_lexer": "ipython3",
   "version": "3.12.4"
  }
 },
 "nbformat": 4,
 "nbformat_minor": 5
}
