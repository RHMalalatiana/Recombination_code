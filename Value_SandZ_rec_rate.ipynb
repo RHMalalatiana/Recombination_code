{
  "nbformat": 4,
  "nbformat_minor": 0,
  "metadata": {
    "colab": {
      "provenance": [],
      "authorship_tag": "ABX9TyNCAdkyCdxhafwHDSt+zGic",
      "include_colab_link": true
    },
    "kernelspec": {
      "name": "python3",
      "display_name": "Python 3"
    },
    "language_info": {
      "name": "python"
    }
  },
  "cells": [
    {
      "cell_type": "markdown",
      "metadata": {
        "id": "view-in-github",
        "colab_type": "text"
      },
      "source": [
        "<a href=\"https://colab.research.google.com/github/RHMalalatiana/Recombination_code/blob/main/Value_SandZ_rec_rate.ipynb\" target=\"_parent\"><img src=\"https://colab.research.google.com/assets/colab-badge.svg\" alt=\"Open In Colab\"/></a>"
      ]
    },
    {
      "cell_type": "code",
      "source": [
        "pip install pyvolve"
      ],
      "metadata": {
        "colab": {
          "base_uri": "https://localhost:8080/"
        },
        "id": "MlkzbgJpPkEO",
        "outputId": "7f22faa2-3de9-40db-cc4c-9fc35b17156f"
      },
      "execution_count": 2,
      "outputs": [
        {
          "output_type": "stream",
          "name": "stdout",
          "text": [
            "Requirement already satisfied: pyvolve in /usr/local/lib/python3.11/dist-packages (1.1.0)\n",
            "Requirement already satisfied: numpy>=1.20.0 in /usr/local/lib/python3.11/dist-packages (from pyvolve) (2.0.2)\n",
            "Requirement already satisfied: scipy in /usr/local/lib/python3.11/dist-packages (from pyvolve) (1.15.3)\n",
            "Requirement already satisfied: Biopython in /usr/local/lib/python3.11/dist-packages (from pyvolve) (1.85)\n"
          ]
        }
      ]
    },
    {
      "cell_type": "code",
      "execution_count": 3,
      "metadata": {
        "id": "_v4KcfYgjS9A"
      },
      "outputs": [],
      "source": [
        "import math as mt\n",
        "import random\n",
        "from Bio import SeqIO\n",
        "import pyvolve\n",
        "import numpy as np\n",
        "import itertools\n",
        "import matplotlib.pyplot as plt\n",
        "from scipy.special import ndtri"
      ]
    },
    {
      "cell_type": "code",
      "source": [
        "def zFunc(ab,ac,bc):\n",
        "  dist_sort=np.sort([ab,ac,bc])\n",
        "  ab=dist_sort[0]\n",
        "  ac=dist_sort[1]\n",
        "  bc=dist_sort[2]\n",
        "  result=(bc-ac)/mt.sqrt(ab) if ab>0 else 0\n",
        "  return(result)"
      ],
      "metadata": {
        "id": "i16yw5mdEGqM"
      },
      "execution_count": 4,
      "outputs": []
    },
    {
      "cell_type": "code",
      "source": [
        "def hamming_distance(seq1,seq2):\n",
        "    \"\"\"\n",
        "    This function compute the difference between two sequences\n",
        "    \"\"\"\n",
        "    if len(seq1) != len(seq2):\n",
        "        raise ValueError(\"Sequences must be of equal length\")\n",
        "    sum=0\n",
        "    for i in range(len(seq1)):\n",
        "        if seq1[i]!=seq2[i]:\n",
        "            sum+=1\n",
        "    return sum"
      ],
      "metadata": {
        "id": "ozhqdmr2nAZk"
      },
      "execution_count": 5,
      "outputs": []
    },
    {
      "cell_type": "code",
      "source": [
        "def distance_matrix(seq):\n",
        "  N=len(seq)\n",
        "  d=np.zeros((N,N))\n",
        "  for i in range(N):\n",
        "    for j in range(N):\n",
        "      d[i,j]=hamming_distance(seq[i],seq[j])\n",
        "      d[j,i]=d[i,j]\n",
        "  return d"
      ],
      "metadata": {
        "id": "BoeiKwloEP0Q"
      },
      "execution_count": 6,
      "outputs": []
    },
    {
      "cell_type": "markdown",
      "source": [
        "pyvolve library\n",
        "\n",
        "https://sjspielman.github.io/pyvolve/model.html#module-model\n",
        "\n",
        "Here I simulate tree of 4 sequences and calculate the Z-score between all the triplet.\n",
        "\n",
        "Conclusion: We should take care of the choice of triplet\n"
      ],
      "metadata": {
        "id": "zMevqaPnZzq4"
      }
    },
    {
      "cell_type": "code",
      "source": [
        "n_simulation=1\n",
        "\n",
        "for i in range(n_simulation):\n",
        "  seq=dict()\n",
        "  # Define the tree (branch lengths represent time)\n",
        "  tree = pyvolve.read_tree(tree=\"((A:0.5,B:0.5):0.5,(C:0.5,D:0.5):0.5);\")\n",
        "  # Define a simple nucleotide model\n",
        "  model = pyvolve.Model(\"nucleotide\")\n",
        "  # model = pyvolve.Model(\"nucleotide\", {\n",
        "    # \"state_freqs\": [0.25, 0.25, 0.25, 0.25],  # A, C, G, T\n",
        "    # \"rate_matrix\": [\n",
        "        # [0, 1, 1, 1],\n",
        "        # [1, 0, 1, 1],\n",
        "        # [1, 1, 0, 1],\n",
        "        # [1, 1, 1, 0]\n",
        "    # ]\n",
        "    # })\n",
        "  # Define a partition with the model and a sequence length\n",
        "  partition = pyvolve.Partition(models=model, size=2000)\n",
        "  # Evolve sequences along the tree\n",
        "  evolver = pyvolve.Evolver(partitions=partition, tree=tree)\n",
        "  evolver(seqfile=\"my_simulation_output.fasta\")  # Outputs to a file\n",
        "  for record in SeqIO.parse(\"my_simulation_output.fasta\", \"fasta\"):\n",
        "    seq[record.id]=record.seq\n",
        "  d=distance_matrix(list(seq.values()))\n",
        "  seqname=list(seq.keys())\n",
        "  N=len(seq)\n",
        "  # Step 1: Enumerate all triplets\n",
        "  triplets = list(itertools.combinations(range(N), 3))\n",
        "  Z_scores = dict()\n",
        "  for a, b, c in triplets:\n",
        "    # print(f\"triplet:({seqname[a],seqname[b],seqname[c]})\")\n",
        "    dAB=d[a][b]\n",
        "    dAC=d[a][c]\n",
        "    dBC=d[b][c]\n",
        "    # print(f\"d_{seqname[a]}{seqname[b]}={dAB}\")\n",
        "    # print(f\"d_{seqname[a]}{seqname[c]}={dAC}\")\n",
        "    # print(f\"d_{seqname[b]}{seqname[c]}={dBC}\")\n",
        "    # print(f\"----------------------------------\")\n",
        "    Z = zFunc(dAB, dAC, dBC)\n",
        "    Z_scores[(seqname[a], seqname[b], seqname[c])]=Z\n",
        "  print(Z_scores)"
      ],
      "metadata": {
        "id": "tB7InMWsjUYL",
        "colab": {
          "base_uri": "https://localhost:8080/"
        },
        "outputId": "1134131b-d502-4248-e869-d0e1e68e692d"
      },
      "execution_count": 7,
      "outputs": [
        {
          "output_type": "stream",
          "name": "stdout",
          "text": [
            "{('A', 'B', 'C'): np.float64(-0.9329903614147113), ('A', 'B', 'D'): np.float64(-0.1805787796286538), ('A', 'C', 'D'): np.float64(-0.02990743022772896), ('B', 'C', 'D'): np.float64(-1.1364823486537006)}\n"
          ]
        }
      ]
    },
    {
      "cell_type": "code",
      "source": [],
      "metadata": {
        "id": "K45wfYyI0Asj"
      },
      "execution_count": null,
      "outputs": []
    },
    {
      "cell_type": "code",
      "source": [
        "critical_value=ndtri(1-(0.05/(2*len(triplets))))\n",
        "print(f\"Critical value: {critical_value}\")"
      ],
      "metadata": {
        "colab": {
          "base_uri": "https://localhost:8080/"
        },
        "id": "hRZlPA6wqyaS",
        "outputId": "734f0387-b57b-45f6-a7b6-bad775641d99"
      },
      "execution_count": 9,
      "outputs": [
        {
          "output_type": "stream",
          "name": "stdout",
          "text": [
            "Critical value: 2.497705474412374\n"
          ]
        }
      ]
    },
    {
      "cell_type": "markdown",
      "source": [
        "Here I simulate recombination"
      ],
      "metadata": {
        "id": "Ri5F9AXLfxD0"
      }
    },
    {
      "cell_type": "code",
      "source": [
        "def simulate_recombination(seq1, seq2, recombination_rate):\n",
        "    \"\"\"\n",
        "    Simulates recombination along two sequences based on a given recombination rate.\n",
        "\n",
        "    Args:\n",
        "        seq1 (str): First DNA sequence (parent 1).\n",
        "        seq2 (str): Second DNA sequence (parent 2).\n",
        "        recombination_rate (float): Probability of recombination at each position (between 0 and 1).\n",
        "\n",
        "    Returns:\n",
        "        str: Recombinant sequence.\n",
        "        list: List of recombination points.\n",
        "    \"\"\"\n",
        "    if len(seq1) != len(seq2):\n",
        "        raise ValueError(\"Sequences must be of equal length.\")\n",
        "\n",
        "    length = len(seq1)\n",
        "    recombinant_seq = []\n",
        "    current_parent = seq1  # Start from first parent\n",
        "    recombination_points = []\n",
        "\n",
        "    for i in range(length):\n",
        "        # Decide whether to switch parent sequences based on recombination rate\n",
        "        if random.random() < recombination_rate:\n",
        "            current_parent = seq2 if current_parent == seq1 else seq1\n",
        "            recombination_points.append(i)  # Store recombination position\n",
        "\n",
        "        recombinant_seq.append(current_parent[i])  # Append current base\n",
        "\n",
        "    return \"\".join(recombinant_seq)"
      ],
      "metadata": {
        "id": "VMuFAIJsfaF_"
      },
      "execution_count": 10,
      "outputs": []
    },
    {
      "cell_type": "markdown",
      "source": [
        "Run 100 simulation (Computing the Z score)\n",
        "\n",
        "Generating sequences using pyvolve, Tree model ((AB)C)\n",
        "\n",
        "Transform B sequences to a recombination of A and C. Recombination rate=0.01\n",
        "\n",
        "Computing Z"
      ],
      "metadata": {
        "id": "nuEib-x7gB4k"
      }
    },
    {
      "cell_type": "code",
      "source": [
        "list_Z=[]\n",
        "n_simulation=100\n",
        "for i in range(n_simulation):\n",
        "  seq=dict()\n",
        "  # Define the tree (branch lengths represent time)\n",
        "  tree = pyvolve.read_tree(tree=\"((A:0.1,B:0.1):0.1,(C:0.1,D:0.1):0.1);\")\n",
        "  # Define a simple nucleotide model\n",
        "  model = pyvolve.Model(\"nucleotide\")\n",
        "  # Define a partition with the model and a sequence length\n",
        "  partition = pyvolve.Partition(models=model, size=1000)\n",
        "  # Evolve sequences along the tree\n",
        "  evolver = pyvolve.Evolver(partitions=partition, tree=tree)\n",
        "  evolver(seqfile=\"my_simulation_output.fasta\")  # Outputs to a file\n",
        "  for record in SeqIO.parse(\"my_simulation_output.fasta\", \"fasta\"):\n",
        "    seq[record.id]=record.seq\n",
        "  recombination_rate=0.01\n",
        "  seq['B']=simulate_recombination(seq['A'], seq['C'], recombination_rate)\n",
        "  ab=hamming_distance(seq['A'],seq['B'])\n",
        "  ac=hamming_distance(seq['A'],seq['C'])\n",
        "  bc=hamming_distance(seq['B'],seq['C'])\n",
        "  list_Z.append(zFunc(ab,ac,bc))"
      ],
      "metadata": {
        "id": "FsFD2wIV2AWq"
      },
      "execution_count": 11,
      "outputs": []
    },
    {
      "cell_type": "markdown",
      "source": [
        "critical value: \\begin{equation}\n",
        "            Z_{threshold}=\\Phi^{-1}\\left(1-\\frac{\\alpha}{2N_{simulation}}\\right)\n",
        "        \\end{equation}"
      ],
      "metadata": {
        "id": "O7QICLFwg8ao"
      }
    },
    {
      "cell_type": "code",
      "source": [
        "critical_value=ndtri(1-(0.05/(2*n_simulation)))\n",
        "print(f\"Critical value: {critical_value}\")"
      ],
      "metadata": {
        "colab": {
          "base_uri": "https://localhost:8080/"
        },
        "id": "yURbgLxBo6u_",
        "outputId": "cbebb878-530d-4dd9-f1f9-724f91db21ac"
      },
      "execution_count": 12,
      "outputs": [
        {
          "output_type": "stream",
          "name": "stdout",
          "text": [
            "Critical value: 3.4807564043462422\n"
          ]
        }
      ]
    },
    {
      "cell_type": "code",
      "source": [
        "plt.figure(figsize=(12, 8))\n",
        "plt.hist(list_Z, bins=10, label=\"Z\")\n",
        "plt.axvline(x=critical_value, color='r', linestyle='--',label=f'critical value={critical_value:.2f}')\n",
        "plt.axvline(x=-critical_value, color='r', linestyle='--')\n",
        "plt.xlabel(\"Value of Z\")\n",
        "plt.ylabel(\"Frequency\")\n",
        "plt.legend()\n",
        "plt.title(\"Z with recombination\")\n",
        "\n",
        "plt.tight_layout()\n",
        "plt.show()"
      ],
      "metadata": {
        "colab": {
          "base_uri": "https://localhost:8080/",
          "height": 807
        },
        "id": "57WOymLFo6z4",
        "outputId": "03ccefa3-7f51-45db-aecf-525a8ad00056"
      },
      "execution_count": 13,
      "outputs": [
        {
          "output_type": "display_data",
          "data": {
            "text/plain": [
              "<Figure size 1200x800 with 1 Axes>"
            ],
            "image/png": "[encoded data removed]"
          },
          "metadata": {}
        }
      ]
    },
    {
      "cell_type": "markdown",
      "source": [
        "We do the same simulation but the data used here is data with no recombination"
      ],
      "metadata": {
        "id": "PJdo6gJahkh-"
      }
    },
    {
      "cell_type": "code",
      "source": [
        "list_Z=[]\n",
        "n_simulation=100\n",
        "for i in range(n_simulation):\n",
        "  seq=dict()\n",
        "  # Define the tree (branch lengths represent time)\n",
        "  tree = pyvolve.read_tree(tree=\"((A:0.1,B:0.1):0.1,(C:0.1,D:0.1):0.1);\")\n",
        "  # Define a simple nucleotide model\n",
        "  model = pyvolve.Model(\"nucleotide\")\n",
        "  # Define a partition with the model and a sequence length\n",
        "  partition = pyvolve.Partition(models=model, size=1000)\n",
        "  # Evolve sequences along the tree\n",
        "  evolver = pyvolve.Evolver(partitions=partition, tree=tree)\n",
        "  evolver(seqfile=\"my_simulation_output.fasta\")  # Outputs to a file\n",
        "  for record in SeqIO.parse(\"my_simulation_output.fasta\", \"fasta\"):\n",
        "    seq[record.id]=record.seq\n",
        "  ab=hamming_distance(seq['A'],seq['B'])\n",
        "  ac=hamming_distance(seq['A'],seq['C'])\n",
        "  bc=hamming_distance(seq['B'],seq['C'])\n",
        "  list_Z.append(zFunc(ab,ac,bc))"
      ],
      "metadata": {
        "id": "vTR9WKEZo63g"
      },
      "execution_count": 14,
      "outputs": []
    },
    {
      "cell_type": "code",
      "source": [
        "critical_value=ndtri(1-(0.05/(2*n_simulation)))\n",
        "print(f\"Critical value: {critical_value}\")"
      ],
      "metadata": {
        "colab": {
          "base_uri": "https://localhost:8080/"
        },
        "id": "Wu1Ipyqro6_K",
        "outputId": "064c323b-9b75-49aa-e89c-39c2829dcf74"
      },
      "execution_count": 15,
      "outputs": [
        {
          "output_type": "stream",
          "name": "stdout",
          "text": [
            "Critical value: 3.4807564043462422\n"
          ]
        }
      ]
    },
    {
      "cell_type": "code",
      "source": [
        "plt.figure(figsize=(12, 8))\n",
        "plt.hist(list_Z, bins=10, alpha=0.6, label=\"Z\")\n",
        "plt.axvline(x=critical_value, color='r', linestyle='--',label=f'critical value={critical_value:.2f}')\n",
        "plt.axvline(x=-critical_value, color='r', linestyle='--',label=f'critical value={-critical_value:.2f}')\n",
        "plt.xlabel(\"Value of Z\")\n",
        "plt.ylabel(\"Frequency\")\n",
        "plt.legend()\n",
        "plt.title(\"Z no recombination\")\n",
        "\n",
        "plt.tight_layout()\n",
        "plt.show()"
      ],
      "metadata": {
        "colab": {
          "base_uri": "https://localhost:8080/",
          "height": 807
        },
        "id": "wlsI7Qs0XMjA",
        "outputId": "210e676a-f53b-4a26-cd9c-7c6b37a85e34"
      },
      "execution_count": 16,
      "outputs": [
        {
          "output_type": "display_data",
          "data": {
            "text/plain": [
              "<Figure size 1200x800 with 1 Axes>"
            ],
            "image/png": "[encoded data removed]"
          },
          "metadata": {}
        }
      ]
    },
    {
      "cell_type": "code",
      "source": [],
      "metadata": {
        "id": "LO0SehtAjxA2"
      },
      "execution_count": 13,
      "outputs": []
    },
    {
      "cell_type": "code",
      "source": [],
      "metadata": {
        "id": "4alf2oGBjisZ"
      },
      "execution_count": null,
      "outputs": []
    },
    {
      "cell_type": "code",
      "source": [],
      "metadata": {
        "id": "wooJgT54jiyO"
      },
      "execution_count": null,
      "outputs": []
    },
    {
      "cell_type": "code",
      "source": [],
      "metadata": {
        "id": "aayt8c0tji4A"
      },
      "execution_count": null,
      "outputs": []
    },
    {
      "cell_type": "code",
      "source": [],
      "metadata": {
        "id": "sD3KRYyiji9g"
      },
      "execution_count": null,
      "outputs": []
    },
    {
      "cell_type": "code",
      "source": [],
      "metadata": {
        "id": "abAPf9LbjjDR"
      },
      "execution_count": null,
      "outputs": []
    },
    {
      "cell_type": "code",
      "source": [],
      "metadata": {
        "id": "NHp1_cF2jjJG"
      },
      "execution_count": null,
      "outputs": []
    },
    {
      "cell_type": "code",
      "source": [],
      "metadata": {
        "id": "bmCrw0objjO7"
      },
      "execution_count": null,
      "outputs": []
    },
    {
      "cell_type": "code",
      "source": [],
      "metadata": {
        "id": "POrOXpidjjah"
      },
      "execution_count": null,
      "outputs": []
    },
    {
      "cell_type": "code",
      "source": [],
      "metadata": {
        "id": "exkq8AQ7jjgx"
      },
      "execution_count": null,
      "outputs": []
    },
    {
      "cell_type": "code",
      "source": [
        "import numpy as np\n",
        "import scipy.stats as stats\n",
        "\n",
        "# Create a standard normal distribution (mean=0, std=1)\n",
        "standard_normal = stats.norm(loc=0, scale=1)\n",
        "\n",
        "# Calculate the probability density at x=1\n",
        "pdf_value = standard_normal.pdf(1.96)\n",
        "print(f\"PDF at x=1.96: {pdf_value:.3f}\")\n",
        "\n",
        "# Calculate the probability of getting a value less than or equal to 1\n",
        "cdf_value = standard_normal.cdf(1)\n",
        "print(f\"CDF at x=1: {cdf_value:.4f}\")\n",
        "\n",
        "# Find the x value for which the CDF is 0.95 (95th percentile)\n",
        "ppf_value = standard_normal.ppf(0.95)\n",
        "print(f\"PPF at q=0.95: {ppf_value:.4f}\")\n",
        "\n",
        "# Generate 5 random samples from the distribution\n",
        "random_samples = standard_normal.rvs(size=5)\n",
        "print(f\"Random samples: {random_samples}\")\n",
        "\n",
        "# Example with a different mean and std\n",
        "normal_distribution = stats.norm(loc=5, scale=2)\n",
        "x_values = np.linspace(0, 10, 100)\n",
        "pdf_values = normal_distribution.pdf(x_values)"
      ],
      "metadata": {
        "colab": {
          "base_uri": "https://localhost:8080/"
        },
        "id": "RYe-BPzTo6xj",
        "outputId": "7b2e941b-7b81-4ca9-c6e4-ec42fa9c43c6"
      },
      "execution_count": 14,
      "outputs": [
        {
          "output_type": "stream",
          "name": "stdout",
          "text": [
            "PDF at x=1.96: 0.058\n",
            "CDF at x=1: 0.8413\n",
            "PPF at q=0.95: 1.6449\n",
            "Random samples: [ 0.11127955  1.2324108  -0.30046712  0.46528577  0.0648107 ]\n"
          ]
        }
      ]
    }
  ]
}