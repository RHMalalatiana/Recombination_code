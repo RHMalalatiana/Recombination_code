{
  "nbformat": 4,
  "nbformat_minor": 0,
  "metadata": {
    "colab": {
      "provenance": [],
      "name": "value_SandZ_norec.ipynb",
      "authorship_tag": "ABX9TyOjg5cEi6XMlKgl8KrhHGuE",
      "include_colab_link": true
    },
    "kernelspec": {
      "name": "python3",
      "display_name": "Python 3"
    },
    "language_info": {
      "name": "python"
    }
  },
  "cells": [
    {
      "cell_type": "markdown",
      "metadata": {
        "id": "view-in-github",
        "colab_type": "text"
      },
      "source": [
        "<a href=\"https://colab.research.google.com/github/RHMalalatiana/Recombination_code/blob/main/value_SandZ_norec.ipynb\" target=\"_parent\"><img src=\"https://colab.research.google.com/assets/colab-badge.svg\" alt=\"Open In Colab\"/></a>"
      ]
    },
    {
      "cell_type": "code",
      "source": [
        "!git clone https://github.com/RHMalalatiana/Recombination_code.git"
      ],
      "metadata": {
        "colab": {
          "base_uri": "https://localhost:8080/"
        },
        "id": "A1oBdqRndo0D",
        "outputId": "6dda34fb-e48d-4ebb-ee3c-735c3d0af96c"
      },
      "execution_count": 1,
      "outputs": [
        {
          "output_type": "stream",
          "name": "stdout",
          "text": [
            "Cloning into 'Recombination_code'...\n",
            "remote: Enumerating objects: 43, done.\u001b[K\n",
            "remote: Counting objects: 100% (43/43), done.\u001b[K\n",
            "remote: Compressing objects: 100% (42/42), done.\u001b[K\n",
            "remote: Total 43 (delta 15), reused 3 (delta 0), pack-reused 0 (from 0)\u001b[K\n",
            "Receiving objects: 100% (43/43), 261.59 KiB | 5.34 MiB/s, done.\n",
            "Resolving deltas: 100% (15/15), done.\n"
          ]
        }
      ]
    },
    {
      "cell_type": "code",
      "execution_count": 2,
      "metadata": {
        "id": "Z8j6SoyXcJXK"
      },
      "outputs": [],
      "source": [
        "import sys\n",
        "sys.path.append('/content/Recombination_code') # Update path\n",
        "from data_gen_dist_rec import *\n",
        "import math as mt\n",
        "import random\n",
        "import statistics"
      ]
    },
    {
      "cell_type": "markdown",
      "source": [
        "\\begin{equation}\n",
        "    S=|d_{AC}-d_{BC}|=|d_{AI}-d_{BI}|\n",
        "\\end{equation}\n",
        "\n",
        "\\begin{equation}\n",
        "    Z=\\frac{|S|}{\\sqrt{Var(S)}}=\\frac{|S|}{\\sqrt{\\lambda(t_{AI}+t_{BI})}}\n",
        "\\end{equation}"
      ],
      "metadata": {
        "id": "3uhktCCx2cdm"
      }
    },
    {
      "cell_type": "code",
      "source": [
        "list_S=[]\n",
        "list_Z=[]\n",
        "n_simulation=10000\n",
        "#the time divergent of the 3 species is given here\n",
        "t_AI=1.0\n",
        "t_BI=1.0\n",
        "t_CI=1.0\n",
        "for i in range(n_simulation):\n",
        "    #we define the initial genome as a sequence of a of length 500\n",
        "    initial_gen='a'*500\n",
        "    #here is the input tree of the form [genTime, leftBranch, RightBranch] in this case we have tree of 3 leaves\n",
        "    gen_time=[1.0,[1.0,[1.0],[1.0]],[2.0]]\n",
        "    #we start generating the genome sequences of the tree\n",
        "    tree=generateDriver(initial_gen,gen_time)\n",
        "    #here we extract the sequences generated\n",
        "    seq=extract_genomes(tree)\n",
        "    seqA=seq[0]\n",
        "    seqB=seq[1]\n",
        "    seqC=seq[2]\n",
        "    #let us see the distance between them. Here d_AB should be short and d_AC, d_BC should be long\n",
        "    d_AB=hamming_distance(seqA,seqB)\n",
        "    d_AC=hamming_distance(seqA,seqC)\n",
        "    d_BC=hamming_distance(seqB,seqC)\n",
        "    #compute lambda\n",
        "    lambda_hat=(d_AB+d_AC+d_BC)/(2*(t_AI+t_BI+t_CI))\n",
        "    t_AC_hat=d_AC/(2*lambda_hat)\n",
        "    t_BC_hat=d_BC/(2*lambda_hat)\n",
        "    d_AC_hat=2*lambda_hat*t_AC_hat\n",
        "    d_BC_hat=2*lambda_hat*t_BC_hat\n",
        "    #compute S\n",
        "    S=abs(d_AC_hat-d_BC_hat)\n",
        "    list_S.append(S)\n",
        "    #compute Z\n",
        "    Var_S=lambda_hat*(t_AI+t_BI)\n",
        "    Z=S/mt.sqrt(Var_S)\n",
        "    list_Z.append(Z)"
      ],
      "metadata": {
        "id": "7xgisUpocNnu"
      },
      "execution_count": 3,
      "outputs": []
    },
    {
      "cell_type": "code",
      "source": [
        "false_positive = sum(1 for z in list_Z if z > 1.96)\n",
        "print(f\"Number of false positives: {false_positive}\")"
      ],
      "metadata": {
        "colab": {
          "base_uri": "https://localhost:8080/"
        },
        "id": "7Khd5sa8fejp",
        "outputId": "1f8507ea-7aaf-45a3-adb0-7eb28dc2d288"
      },
      "execution_count": 4,
      "outputs": [
        {
          "output_type": "stream",
          "name": "stdout",
          "text": [
            "Number of false positives: 52\n"
          ]
        }
      ]
    },
    {
      "cell_type": "code",
      "source": [
        "plt.figure(figsize=(12, 8))\n",
        "\n",
        "# plt.subplot(1, 2, 1)\n",
        "# plt.hist(list_S, bins=100, alpha=0.6, label=\"S\")\n",
        "# plt.xlabel(\"Value of S\")\n",
        "# plt.ylabel(\"Frequency\")\n",
        "# plt.legend()\n",
        "# plt.title(\"S without recombination\")\n",
        "\n",
        "plt.subplot(1, 2, 2)\n",
        "plt.hist(list_Z, bins=50, alpha=0.6, label=\"Z\")\n",
        "plt.axvline(x=1.96, color='r', linestyle='--',label='critical value')\n",
        "plt.xlabel(\"Value of Z\")\n",
        "plt.ylabel(\"Frequency\")\n",
        "plt.legend()\n",
        "plt.title(\"Z without recombination\")\n",
        "\n",
        "plt.tight_layout()\n",
        "plt.show()"
      ],
      "metadata": {
        "colab": {
          "base_uri": "https://localhost:8080/",
          "height": 807
        },
        "id": "p_8hqmEKebIO",
        "outputId": "0e96716e-d037-40f9-b9de-ee102fe374dd"
      },
      "execution_count": 5,
      "outputs": [
        {
          "output_type": "display_data",
          "data": {
            "text/plain": [
              "<Figure size 1200x800 with 1 Axes>"
            ],
            "image/png": "[encoded data removed]"
          },
          "metadata": {}
        }
      ]
    }
  ]
}